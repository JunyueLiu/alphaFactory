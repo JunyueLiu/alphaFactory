{
 "cells": [
  {
   "cell_type": "code",
   "execution_count": 1,
   "metadata": {
    "pycharm": {
     "is_executing": false
    }
   },
   "outputs": [],
   "source": [
    "import yfinance as yf\n",
    "import pandas as pd\n",
    "import inspect\n",
    "from jupyter_dash import JupyterDash\n",
    "\n",
    "\n",
    "from alpha_research.SingleAssetResearch import SingleAssetResearch\n",
    "from alpha_research.utils import print_code\n",
    "from alpha_research.factor_zoo.alpha_101 import alpha_101, alpha_98"
   ]
  },
  {
   "cell_type": "code",
   "execution_count": 2,
   "metadata": {
    "pycharm": {
     "is_executing": false
    }
   },
   "outputs": [
    {
     "data": {
      "text/html": [
       "<div>\n",
       "<style scoped>\n",
       "    .dataframe tbody tr th:only-of-type {\n",
       "        vertical-align: middle;\n",
       "    }\n",
       "\n",
       "    .dataframe tbody tr th {\n",
       "        vertical-align: top;\n",
       "    }\n",
       "\n",
       "    .dataframe thead th {\n",
       "        text-align: right;\n",
       "    }\n",
       "</style>\n",
       "<table border=\"1\" class=\"dataframe\">\n",
       "  <thead>\n",
       "    <tr style=\"text-align: right;\">\n",
       "      <th></th>\n",
       "      <th>open</th>\n",
       "      <th>high</th>\n",
       "      <th>low</th>\n",
       "      <th>close</th>\n",
       "      <th>volume</th>\n",
       "      <th>dividends</th>\n",
       "      <th>stock splits</th>\n",
       "    </tr>\n",
       "    <tr>\n",
       "      <th>Datetime</th>\n",
       "      <th></th>\n",
       "      <th></th>\n",
       "      <th></th>\n",
       "      <th></th>\n",
       "      <th></th>\n",
       "      <th></th>\n",
       "      <th></th>\n",
       "    </tr>\n",
       "  </thead>\n",
       "  <tbody>\n",
       "    <tr>\n",
       "      <th>2020-07-09 09:30:00</th>\n",
       "      <td>26351.13</td>\n",
       "      <td>26351.13</td>\n",
       "      <td>26260.61</td>\n",
       "      <td>26283.55</td>\n",
       "      <td>0</td>\n",
       "      <td>0</td>\n",
       "      <td>0</td>\n",
       "    </tr>\n",
       "    <tr>\n",
       "      <th>2020-07-09 09:31:00</th>\n",
       "      <td>26282.57</td>\n",
       "      <td>26319.47</td>\n",
       "      <td>26279.13</td>\n",
       "      <td>26315.76</td>\n",
       "      <td>0</td>\n",
       "      <td>0</td>\n",
       "      <td>0</td>\n",
       "    </tr>\n",
       "    <tr>\n",
       "      <th>2020-07-09 09:32:00</th>\n",
       "      <td>26326.62</td>\n",
       "      <td>26345.35</td>\n",
       "      <td>26269.35</td>\n",
       "      <td>26273.19</td>\n",
       "      <td>0</td>\n",
       "      <td>0</td>\n",
       "      <td>0</td>\n",
       "    </tr>\n",
       "    <tr>\n",
       "      <th>2020-07-09 09:33:00</th>\n",
       "      <td>26276.36</td>\n",
       "      <td>26276.36</td>\n",
       "      <td>26203.75</td>\n",
       "      <td>26213.07</td>\n",
       "      <td>0</td>\n",
       "      <td>0</td>\n",
       "      <td>0</td>\n",
       "    </tr>\n",
       "    <tr>\n",
       "      <th>2020-07-09 09:34:00</th>\n",
       "      <td>26212.86</td>\n",
       "      <td>26246.01</td>\n",
       "      <td>26205.68</td>\n",
       "      <td>26246.01</td>\n",
       "      <td>0</td>\n",
       "      <td>0</td>\n",
       "      <td>0</td>\n",
       "    </tr>\n",
       "    <tr>\n",
       "      <th>...</th>\n",
       "      <td>...</td>\n",
       "      <td>...</td>\n",
       "      <td>...</td>\n",
       "      <td>...</td>\n",
       "      <td>...</td>\n",
       "      <td>...</td>\n",
       "      <td>...</td>\n",
       "    </tr>\n",
       "    <tr>\n",
       "      <th>2020-07-17 16:04:00</th>\n",
       "      <td>25121.25</td>\n",
       "      <td>25121.25</td>\n",
       "      <td>25121.25</td>\n",
       "      <td>25121.25</td>\n",
       "      <td>0</td>\n",
       "      <td>0</td>\n",
       "      <td>0</td>\n",
       "    </tr>\n",
       "    <tr>\n",
       "      <th>2020-07-17 16:05:00</th>\n",
       "      <td>25121.25</td>\n",
       "      <td>25121.25</td>\n",
       "      <td>25121.25</td>\n",
       "      <td>25121.25</td>\n",
       "      <td>0</td>\n",
       "      <td>0</td>\n",
       "      <td>0</td>\n",
       "    </tr>\n",
       "    <tr>\n",
       "      <th>2020-07-17 16:06:00</th>\n",
       "      <td>25121.25</td>\n",
       "      <td>25121.25</td>\n",
       "      <td>25121.25</td>\n",
       "      <td>25121.25</td>\n",
       "      <td>0</td>\n",
       "      <td>0</td>\n",
       "      <td>0</td>\n",
       "    </tr>\n",
       "    <tr>\n",
       "      <th>2020-07-17 16:07:00</th>\n",
       "      <td>25121.25</td>\n",
       "      <td>25121.25</td>\n",
       "      <td>25121.25</td>\n",
       "      <td>25121.25</td>\n",
       "      <td>0</td>\n",
       "      <td>0</td>\n",
       "      <td>0</td>\n",
       "    </tr>\n",
       "    <tr>\n",
       "      <th>2020-07-17 16:08:00</th>\n",
       "      <td>25121.25</td>\n",
       "      <td>25121.25</td>\n",
       "      <td>25089.17</td>\n",
       "      <td>25089.17</td>\n",
       "      <td>0</td>\n",
       "      <td>0</td>\n",
       "      <td>0</td>\n",
       "    </tr>\n",
       "  </tbody>\n",
       "</table>\n",
       "<p>2410 rows × 7 columns</p>\n",
       "</div>"
      ],
      "text/plain": [
       "                         open      high       low     close  volume  \\\n",
       "Datetime                                                              \n",
       "2020-07-09 09:30:00  26351.13  26351.13  26260.61  26283.55       0   \n",
       "2020-07-09 09:31:00  26282.57  26319.47  26279.13  26315.76       0   \n",
       "2020-07-09 09:32:00  26326.62  26345.35  26269.35  26273.19       0   \n",
       "2020-07-09 09:33:00  26276.36  26276.36  26203.75  26213.07       0   \n",
       "2020-07-09 09:34:00  26212.86  26246.01  26205.68  26246.01       0   \n",
       "...                       ...       ...       ...       ...     ...   \n",
       "2020-07-17 16:04:00  25121.25  25121.25  25121.25  25121.25       0   \n",
       "2020-07-17 16:05:00  25121.25  25121.25  25121.25  25121.25       0   \n",
       "2020-07-17 16:06:00  25121.25  25121.25  25121.25  25121.25       0   \n",
       "2020-07-17 16:07:00  25121.25  25121.25  25121.25  25121.25       0   \n",
       "2020-07-17 16:08:00  25121.25  25121.25  25089.17  25089.17       0   \n",
       "\n",
       "                     dividends  stock splits  \n",
       "Datetime                                      \n",
       "2020-07-09 09:30:00          0             0  \n",
       "2020-07-09 09:31:00          0             0  \n",
       "2020-07-09 09:32:00          0             0  \n",
       "2020-07-09 09:33:00          0             0  \n",
       "2020-07-09 09:34:00          0             0  \n",
       "...                        ...           ...  \n",
       "2020-07-17 16:04:00          0             0  \n",
       "2020-07-17 16:05:00          0             0  \n",
       "2020-07-17 16:06:00          0             0  \n",
       "2020-07-17 16:07:00          0             0  \n",
       "2020-07-17 16:08:00          0             0  \n",
       "\n",
       "[2410 rows x 7 columns]"
      ]
     },
     "execution_count": 2,
     "metadata": {},
     "output_type": "execute_result"
    }
   ],
   "source": [
    "hsi = yf.Ticker(\"^HSI\")\n",
    "hist = hsi.history(period=\"7d\", interval='1m')\n",
    "hist.index = hist.index.tz_localize(None)\n",
    "hist.columns = [c.lower() for c in hist.columns]\n",
    "hist"
   ]
  },
  {
   "cell_type": "code",
   "execution_count": 11,
   "metadata": {
    "pycharm": {
     "is_executing": false
    }
   },
   "outputs": [
    {
     "name": "stdout",
     "output_type": "stream",
     "text": [
      "def alpha_100(df: pd.DataFrame):\n",
      "    \"\"\"\n",
      "    Alpha#100: (0 - (1 * (((1.5 * scale(indneutralize(indneutralize(rank(((((close - low) - (high - close)) / (high - low)) * volume)), IndClass.subindustry), IndClass.subindustry))) - scale(indneutralize((correlation(close, rank(adv20), 5) - rank(ts_argmin(close, 30))), IndClass.subindustry))) * (volume / adv20))))\n",
      "    :param df:\n",
      "    :return:\n",
      "    \"\"\"\n",
      "    # todo\n",
      "    factor = 0 - (1 * (((1.5 * scale(indneutralize(indneutralize(\n",
      "        rank(((((df['close'] - df['low']) - (df['high'] - df['close'])) / (df['high'] - df['low'])) * df['volume'])),\n",
      "        IndClass.subindustry), IndClass.subindustry))) - scale(indneutralize(\n",
      "        (correlation(df['close'], rank(adv(df['close'], df['volume'], 20)), 5) - rank(ts_argmin(df['close'], 30))),\n",
      "        IndClass.subindustry))) * (df['volume'] / adv(df['close'], df['volume'], 20))))\n",
      "    return factor\n",
      "\n"
     ]
    }
   ],
   "source": [
    "print_code(alpha_101)"
   ]
  },
  {
   "cell_type": "code",
   "execution_count": 4,
   "metadata": {
    "pycharm": {
     "is_executing": false
    }
   },
   "outputs": [],
   "source": [
    "alpha_res = SingleAssetResearch(hist)"
   ]
  },
  {
   "cell_type": "code",
   "execution_count": 7,
   "metadata": {
    "pycharm": {
     "is_executing": false
    }
   },
   "outputs": [
    {
     "data": {
      "text/plain": [
       "Datetime\n",
       "2020-07-09 09:30:00   -0.746567\n",
       "2020-07-09 09:31:00    0.822736\n",
       "2020-07-09 09:32:00   -0.703017\n",
       "2020-07-09 09:33:00   -0.871631\n",
       "2020-07-09 09:34:00    0.821948\n",
       "                         ...   \n",
       "2020-07-13 09:58:00   -0.315748\n",
       "2020-07-13 09:59:00   -0.486676\n",
       "2020-07-13 10:00:00   -0.777396\n",
       "2020-07-13 10:01:00   -0.984863\n",
       "2020-07-13 10:02:00   -0.538711\n",
       "Length: 723, dtype: float64"
      ]
     },
     "execution_count": 7,
     "metadata": {},
     "output_type": "execute_result"
    }
   ],
   "source": [
    "alpha_res.calculate_factor(alpha_101)"
   ]
  },
  {
   "cell_type": "code",
   "execution_count": 8,
   "metadata": {
    "pycharm": {
     "is_executing": false
    }
   },
   "outputs": [],
   "source": [
    "external_stylesheets = ['https://codepen.io/chriddyp/pen/bWLwgP.css']\n",
    "dash = JupyterDash(__name__, external_stylesheets=external_stylesheets)\n",
    "app = alpha_res.get_evaluation_dash_app(dash)"
   ]
  },
  {
   "cell_type": "code",
   "execution_count": 9,
   "metadata": {
    "pycharm": {
     "is_executing": false
    }
   },
   "outputs": [
    {
     "name": "stdout",
     "output_type": "stream",
     "text": [
      "Dash app running on http://localhost:8050/\n"
     ]
    }
   ],
   "source": [
    "app.run_server(mode='external', host='localhost', debug=True)"
   ]
  },
  {
   "cell_type": "code",
   "execution_count": null,
   "metadata": {
    "pycharm": {
     "is_executing": false
    }
   },
   "outputs": [],
   "source": []
  }
 ],
 "metadata": {
  "kernelspec": {
   "display_name": "Python 3",
   "language": "python",
   "name": "python3"
  },
  "language_info": {
   "codemirror_mode": {
    "name": "ipython",
    "version": 3
   },
   "file_extension": ".py",
   "mimetype": "text/x-python",
   "name": "python",
   "nbconvert_exporter": "python",
   "pygments_lexer": "ipython3",
   "version": "3.7.7"
  },
  "pycharm": {
   "stem_cell": {
    "cell_type": "raw",
    "metadata": {
     "collapsed": false
    },
    "source": []
   }
  }
 },
 "nbformat": 4,
 "nbformat_minor": 1
}

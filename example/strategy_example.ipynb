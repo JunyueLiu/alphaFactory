{
 "cells": [
  {
   "cell_type": "code",
   "execution_count": 1,
   "metadata": {
    "pycharm": {
     "is_executing": false
    }
   },
   "outputs": [],
   "source": [
    "import pandas as pd\n",
    "from jupyter_dash import JupyterDash\n",
    "\n",
    "from backtesting.VectorizationBacktesting import VectorizedBacktesting\n",
    "from backtesting.BacktestingBrokerage import BacktestingBrokerage\n",
    "from backtesting.BacktestingQuote import BacktestingQuote\n",
    "from db_wrapper.mongodb_utils import MongoConnection\n",
    "from order.Order import Order\n",
    "from strategy.StrategyBase import Strategy\n",
    "from bar_manager.BarManager import BarManager"
   ]
  },
  {
   "cell_type": "code",
   "execution_count": 2,
   "metadata": {},
   "outputs": [],
   "source": [
    "class DoubleMA(Strategy):\n",
    "\n",
    "    def __init__(self):\n",
    "        super(DoubleMA, self).__init__()\n",
    "        self.strategy_name = 'Double MA Strategy'\n",
    "        self.author = 'AlphaFactory Trader'\n",
    "        self.strategy_version = '0.0.1'\n",
    "        self.strategy_description = 'Two MA lines, cross over'\n",
    "        self.position = 0\n",
    "        self.traded_code = None\n",
    "\n",
    "    def strategy_logic(self, bar: BarManager):\n",
    "        self.cancel_all()\n",
    "        price = bar.close[-1]\n",
    "        if bar.ta['MA1'][-1] >= bar.ta['MA2'][-1] \\\n",
    "                and bar.ta['MA1'][-2] < bar.ta['MA2'][-2]:\n",
    "            if self.position < 0:\n",
    "                self.cover(self.traded_code, 1.01 * price, 1, None)\n",
    "                self.buy(self.traded_code, 1.01 * price, 1, None)\n",
    "            elif self.position == 0:\n",
    "                self.buy(self.traded_code, 1.01 * price, 1, None)\n",
    "        elif bar.ta['MA1'][-1] <= bar.ta['MA2'][-1] \\\n",
    "                and bar.ta['MA1'][-2] > bar.ta['MA2'][-2]:\n",
    "            if self.position > 0:\n",
    "                self.sell(self.traded_code, 0.99 * price, 1, None)\n",
    "                self.short(self.traded_code, 0.99 * price, 1, None)\n",
    "            elif self.position == 0:\n",
    "                self.short(self.traded_code, 0.99 * price, 1, None)\n",
    "                \n",
    "\n",
    "    def on_1min_bar(self, bar: dict):\n",
    "        self.strategy_logic(bar[self.traded_code])\n",
    "\n",
    "\n",
    "    def on_order_status_change(self, dealt_list: list):\n",
    "        self.write_log_info('Order change, deal: {}'.format(dealt_list))\n",
    "        if len(dealt_list) > 0:\n",
    "            for order in dealt_list:\n",
    "                if order.order_direction == \"LONG\":\n",
    "                    self.position += 1\n",
    "                else:\n",
    "                    self.position -= 1"
   ]
  },
  {
   "cell_type": "code",
   "execution_count": 3,
   "metadata": {
    "pycharm": {
     "is_executing": false,
     "name": "#%%\n"
    }
   },
   "outputs": [],
   "source": [
    "strategy_parameter = {\n",
    "        \"lookback_period\": {\n",
    "            \"HK_FUTURE.999010\": {\n",
    "                \"K_1M\": 100\n",
    "            }\n",
    "        },\n",
    "        \"subscribe\": {\n",
    "            \"HK_FUTURE.999010\": [\n",
    "                \"K_1M\"\n",
    "            ]\n",
    "        },\n",
    "        \"ta_parameters\": {\n",
    "            \"HK_FUTURE.999010\": {\n",
    "                \"K_1M\": {\n",
    "                    \"MA1\": {\n",
    "                        \"indicator\": \"MA\",\n",
    "                        \"period\": 20\n",
    "                    },\n",
    "                    \"MA2\": {\n",
    "                        \"indicator\": \"MA\",\n",
    "                        \"period\": 30,\n",
    "                        \"matype\": \"MA_Type.SMA\",\n",
    "                        \"price_type\": \"'close'\"\n",
    "                    },\n",
    "                }\n",
    "\n",
    "            }\n",
    "        },\n",
    "        \"traded_code\": \"HK_FUTURE.999010\"\n",
    "    }"
   ]
  },
  {
   "cell_type": "code",
   "execution_count": 4,
   "metadata": {
    "pycharm": {
     "name": "#%%\n"
    }
   },
   "outputs": [],
   "source": [
    "backtesting_setting = {\n",
    "        'initial_capital': 100000,\n",
    "        'data_source': 'csv',\n",
    "\n",
    "        'data': {\n",
    "            'HK_FUTURE.999010': {\n",
    "                'K_1M': r'../HK.999010_2019-06-01 00:00:00_2020-05-30 03:00:00_K_1M_qfq.csv'\n",
    "            }\n",
    "        },\n",
    "        'benchmark': r'../HK.999010_2019-06-01 00:00:00_2020-05-30 03:00:00_K_1M_qfq.csv',\n",
    "        'start': '2019-07-01',\n",
    "        'end': '2020-04-30',\n",
    "        'time_key': 'time_key'\n",
    "\n",
    "    }\n"
   ]
  },
  {
   "cell_type": "code",
   "execution_count": 5,
   "metadata": {},
   "outputs": [],
   "source": [
    "quote = BacktestingQuote()\n",
    "broker = BacktestingBrokerage()\n",
    "strategy = DoubleMA()\n",
    "backtesting = VectorizedBacktesting(quote, broker, strategy, strategy_parameter,\n",
    "                                        backtesting_setting=backtesting_setting)"
   ]
  },
  {
   "cell_type": "code",
   "execution_count": 6,
   "metadata": {},
   "outputs": [
    {
     "name": "stderr",
     "output_type": "stream",
     "text": [
      "100%|█████████▉| 198958/198960 [00:13<00:00, 14812.39it/s]\n"
     ]
    },
    {
     "name": "stdout",
     "output_type": "stream",
     "text": [
      "finish backtest\n",
      "0:00:13.435589\n"
     ]
    }
   ],
   "source": [
    "backtesting.run()"
   ]
  },
  {
   "cell_type": "code",
   "execution_count": 11,
   "metadata": {},
   "outputs": [],
   "source": [
    "external_stylesheets = ['https://codepen.io/chriddyp/pen/bWLwgP.css']\n",
    "dash = JupyterDash(__name__, external_stylesheets=external_stylesheets, suppress_callback_exceptions=True)\n",
    "app = backtesting.get_dash_report(dash)"
   ]
  },
  {
   "cell_type": "code",
   "execution_count": 13,
   "metadata": {},
   "outputs": [
    {
     "name": "stdout",
     "output_type": "stream",
     "text": [
      "Dash app running on http://localhost:8070/\n"
     ]
    }
   ],
   "source": [
    "app.run_server(host='localhost',mode='external', port=8070)"
   ]
  },
  {
   "cell_type": "code",
   "execution_count": null,
   "metadata": {},
   "outputs": [],
   "source": []
  }
 ],
 "metadata": {
  "kernelspec": {
   "display_name": "Python 3",
   "language": "python",
   "name": "python3"
  },
  "language_info": {
   "codemirror_mode": {
    "name": "ipython",
    "version": 3
   },
   "file_extension": ".py",
   "mimetype": "text/x-python",
   "name": "python",
   "nbconvert_exporter": "python",
   "pygments_lexer": "ipython3",
   "version": "3.7.7"
  },
  "pycharm": {
   "stem_cell": {
    "cell_type": "raw",
    "metadata": {
     "collapsed": false
    },
    "source": []
   }
  }
 },
 "nbformat": 4,
 "nbformat_minor": 1
}

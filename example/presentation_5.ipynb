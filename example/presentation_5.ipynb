{
 "cells": [
  {
   "cell_type": "markdown",
   "metadata": {
    "collapsed": true
   },
   "source": [
    "# AlphaFactory: a Quantitative Finance Research Plaftorm\n",
    "\n",
    "Supervisor: DR. J.R. ZHANG \n",
    "\n",
    "Students: Liu Junyue, Sun Mengdie, Wang Xinlu, Yin Siyuan "
   ]
  },
  {
   "cell_type": "markdown",
   "metadata": {},
   "source": [
    "***\n",
    "\n",
    "\n",
    "## Recap\n",
    "\n",
    "### What we want to develop\n",
    "\n",
    "* a quantitative investment research system \n",
    "* run fast, test strategies quickly\n",
    "\n",
    "### What we have done\n",
    "* Alpha research: SingleAssetResearch, MultiAssetResearch, AlphaManager\n",
    "* Vectorization Backtesting\n"
   ]
  },
  {
   "cell_type": "markdown",
   "metadata": {},
   "source": [
    "***\n",
    "\n",
    "## Current status: last week\n",
    "\n",
    "### Alpha research \n",
    "* Alpha manager functionality\n",
    "* Alpha manager dashboard\n",
    "\n",
    "### Backtesting\n",
    "* Portfolio manager module\n",
    "* visualization dashboard of strategy allocation\n",
    "\n",
    "### Financial machine learning\n",
    "* labelling\n",
    "* Train weights, and sampling function\n",
    "\n",
    "### Execution\n",
    "* Live API combination (Futu api)\n"
   ]
  },
  {
   "cell_type": "markdown",
   "metadata": {},
   "source": [
    "***\n",
    "\n",
    "## Some demo\n",
    "\n",
    "As mentioned last week, we would like to show some demo this week...\n",
    "\n",
    "### Single asset alpha research"
   ]
  },
  {
   "cell_type": "code",
   "execution_count": 16,
   "metadata": {},
   "outputs": [],
   "source": [
    "# first import some modules\n",
    "import yfinance as yf\n",
    "import pandas as pd\n",
    "import inspect\n",
    "from jupyter_dash import JupyterDash\n",
    "import warnings\n",
    "warnings.filterwarnings('ignore')\n",
    "\n",
    "from alpha_research.SingleAssetResearch import SingleAssetResearch\n",
    "from alpha_research.utils import print_code\n",
    "from alpha_research.factor_zoo.alpha_101 import alpha_101, alpha_98"
   ]
  },
  {
   "cell_type": "code",
   "execution_count": 17,
   "metadata": {},
   "outputs": [
    {
     "data": {
      "text/html": [
       "<div>\n",
       "<style scoped>\n",
       "    .dataframe tbody tr th:only-of-type {\n",
       "        vertical-align: middle;\n",
       "    }\n",
       "\n",
       "    .dataframe tbody tr th {\n",
       "        vertical-align: top;\n",
       "    }\n",
       "\n",
       "    .dataframe thead th {\n",
       "        text-align: right;\n",
       "    }\n",
       "</style>\n",
       "<table border=\"1\" class=\"dataframe\">\n",
       "  <thead>\n",
       "    <tr style=\"text-align: right;\">\n",
       "      <th></th>\n",
       "      <th>open</th>\n",
       "      <th>high</th>\n",
       "      <th>low</th>\n",
       "      <th>close</th>\n",
       "      <th>volume</th>\n",
       "      <th>dividends</th>\n",
       "      <th>stock splits</th>\n",
       "    </tr>\n",
       "    <tr>\n",
       "      <th>Datetime</th>\n",
       "      <th></th>\n",
       "      <th></th>\n",
       "      <th></th>\n",
       "      <th></th>\n",
       "      <th></th>\n",
       "      <th></th>\n",
       "      <th></th>\n",
       "    </tr>\n",
       "  </thead>\n",
       "  <tbody>\n",
       "    <tr>\n",
       "      <th>2020-07-13 09:30:00</th>\n",
       "      <td>541.0</td>\n",
       "      <td>544.0</td>\n",
       "      <td>540.5</td>\n",
       "      <td>541.0</td>\n",
       "      <td>0</td>\n",
       "      <td>0</td>\n",
       "      <td>0</td>\n",
       "    </tr>\n",
       "    <tr>\n",
       "      <th>2020-07-13 09:31:00</th>\n",
       "      <td>541.0</td>\n",
       "      <td>544.0</td>\n",
       "      <td>540.5</td>\n",
       "      <td>544.0</td>\n",
       "      <td>259653</td>\n",
       "      <td>0</td>\n",
       "      <td>0</td>\n",
       "    </tr>\n",
       "    <tr>\n",
       "      <th>2020-07-13 09:32:00</th>\n",
       "      <td>544.0</td>\n",
       "      <td>544.5</td>\n",
       "      <td>542.0</td>\n",
       "      <td>543.5</td>\n",
       "      <td>258268</td>\n",
       "      <td>0</td>\n",
       "      <td>0</td>\n",
       "    </tr>\n",
       "    <tr>\n",
       "      <th>2020-07-13 09:33:00</th>\n",
       "      <td>543.0</td>\n",
       "      <td>545.5</td>\n",
       "      <td>543.0</td>\n",
       "      <td>545.0</td>\n",
       "      <td>136753</td>\n",
       "      <td>0</td>\n",
       "      <td>0</td>\n",
       "    </tr>\n",
       "    <tr>\n",
       "      <th>2020-07-13 09:34:00</th>\n",
       "      <td>545.0</td>\n",
       "      <td>546.5</td>\n",
       "      <td>544.5</td>\n",
       "      <td>546.0</td>\n",
       "      <td>154189</td>\n",
       "      <td>0</td>\n",
       "      <td>0</td>\n",
       "    </tr>\n",
       "  </tbody>\n",
       "</table>\n",
       "</div>"
      ],
      "text/plain": [
       "                      open   high    low  close  volume  dividends  \\\n",
       "Datetime                                                             \n",
       "2020-07-13 09:30:00  541.0  544.0  540.5  541.0       0          0   \n",
       "2020-07-13 09:31:00  541.0  544.0  540.5  544.0  259653          0   \n",
       "2020-07-13 09:32:00  544.0  544.5  542.0  543.5  258268          0   \n",
       "2020-07-13 09:33:00  543.0  545.5  543.0  545.0  136753          0   \n",
       "2020-07-13 09:34:00  545.0  546.5  544.5  546.0  154189          0   \n",
       "\n",
       "                     stock splits  \n",
       "Datetime                           \n",
       "2020-07-13 09:30:00             0  \n",
       "2020-07-13 09:31:00             0  \n",
       "2020-07-13 09:32:00             0  \n",
       "2020-07-13 09:33:00             0  \n",
       "2020-07-13 09:34:00             0  "
      ]
     },
     "execution_count": 17,
     "metadata": {},
     "output_type": "execute_result"
    }
   ],
   "source": [
    "# get history data from api or local csv\n",
    "tencent = yf.Ticker(\"0700.HK\") # Tencent\n",
    "data = tencent.history(period=\"7d\", interval='1m')\n",
    "data.index = data.index.tz_localize(None)\n",
    "data.columns = [c.lower() for c in data.columns]\n",
    "data.head()"
   ]
  },
  {
   "cell_type": "code",
   "execution_count": 18,
   "metadata": {},
   "outputs": [],
   "source": [
    "alpha_res = SingleAssetResearch(data)"
   ]
  },
  {
   "cell_type": "markdown",
   "metadata": {},
   "source": [
    "### design your own alpha\n",
    "\n",
    "In this example we just use an alpha function from our own factor zoo"
   ]
  },
  {
   "cell_type": "code",
   "execution_count": 19,
   "metadata": {},
   "outputs": [
    {
     "name": "stdout",
     "output_type": "stream",
     "text": [
      "def alpha_101(df: pd.DataFrame):\n",
      "    \"\"\"\n",
      "    Alpha#101: ((close - open) / ((high - low) + .001))\n",
      "    :param df:\n",
      "    :return:\n",
      "    \"\"\"\n",
      "    factor = (df['close'] - df['open']) / ((df['high'] - df['low']) + 0.001)\n",
      "    return factor\n",
      "\n"
     ]
    }
   ],
   "source": [
    "print_code(alpha_101)"
   ]
  },
  {
   "cell_type": "code",
   "execution_count": 20,
   "metadata": {},
   "outputs": [
    {
     "data": {
      "text/plain": [
       "Datetime\n",
       "2020-07-13 09:30:00    0.000000\n",
       "2020-07-13 09:31:00    0.856898\n",
       "2020-07-13 09:32:00   -0.199920\n",
       "2020-07-13 09:33:00    0.799680\n",
       "2020-07-13 09:34:00    0.499750\n",
       "                         ...   \n",
       "2020-07-14 15:31:00    0.000000\n",
       "2020-07-14 15:32:00    0.000000\n",
       "2020-07-14 15:33:00    0.000000\n",
       "2020-07-14 15:34:00   -0.499500\n",
       "2020-07-14 15:35:00    0.333111\n",
       "Length: 637, dtype: float64"
      ]
     },
     "execution_count": 20,
     "metadata": {},
     "output_type": "execute_result"
    }
   ],
   "source": [
    "# calculate the factor \n",
    "alpha_res.calculate_factor(alpha_101)"
   ]
  },
  {
   "cell_type": "markdown",
   "metadata": {},
   "source": [
    "### Now is time to evaluate your alpha results.\n",
    "\n",
    "We use jupyter dash to easy use dash in jupyter notebook enviornment"
   ]
  },
  {
   "cell_type": "code",
   "execution_count": 21,
   "metadata": {},
   "outputs": [],
   "source": [
    "external_stylesheets = ['https://codepen.io/chriddyp/pen/bWLwgP.css']\n",
    "dash = JupyterDash(__name__, external_stylesheets=external_stylesheets)\n",
    "app = alpha_res.get_evaluation_dash_app(dash)"
   ]
  },
  {
   "cell_type": "code",
   "execution_count": 22,
   "metadata": {},
   "outputs": [
    {
     "name": "stdout",
     "output_type": "stream",
     "text": [
      "Dash app running on http://localhost:8055/\n"
     ]
    }
   ],
   "source": [
    "app.run_server(mode='external', host='localhost', port=8055)"
   ]
  },
  {
   "cell_type": "markdown",
   "metadata": {},
   "source": [
    "*** \n",
    "\n",
    "## More interactive demo: Multi Asset Research  "
   ]
  },
  {
   "cell_type": "code",
   "execution_count": 23,
   "metadata": {},
   "outputs": [],
   "source": [
    "import pandas as pd\n",
    "import numpy as np\n",
    "import inspect\n",
    "from jupyter_dash import JupyterDash\n",
    "\n",
    "\n",
    "from alpha_research.MultiAssetResearch import MultiAssetResearch\n",
    "from alpha_research.utils import print_code\n",
    "from alpha_research.factor_zoo.alpha_101 import alpha_1\n",
    "from alpha_research.factor_zoo.utils import *"
   ]
  },
  {
   "cell_type": "code",
   "execution_count": 24,
   "metadata": {},
   "outputs": [
    {
     "data": {
      "text/html": [
       "<div>\n",
       "<style scoped>\n",
       "    .dataframe tbody tr th:only-of-type {\n",
       "        vertical-align: middle;\n",
       "    }\n",
       "\n",
       "    .dataframe tbody tr th {\n",
       "        vertical-align: top;\n",
       "    }\n",
       "\n",
       "    .dataframe thead th {\n",
       "        text-align: right;\n",
       "    }\n",
       "</style>\n",
       "<table border=\"1\" class=\"dataframe\">\n",
       "  <thead>\n",
       "    <tr style=\"text-align: right;\">\n",
       "      <th></th>\n",
       "      <th></th>\n",
       "      <th>open</th>\n",
       "      <th>high</th>\n",
       "      <th>low</th>\n",
       "      <th>close</th>\n",
       "      <th>volume</th>\n",
       "      <th>dividends</th>\n",
       "      <th>stock splits</th>\n",
       "    </tr>\n",
       "    <tr>\n",
       "      <th>Date</th>\n",
       "      <th>code</th>\n",
       "      <th></th>\n",
       "      <th></th>\n",
       "      <th></th>\n",
       "      <th></th>\n",
       "      <th></th>\n",
       "      <th></th>\n",
       "      <th></th>\n",
       "    </tr>\n",
       "  </thead>\n",
       "  <tbody>\n",
       "    <tr>\n",
       "      <th rowspan=\"5\" valign=\"top\">2010-06-17</th>\n",
       "      <th>0001.HK</th>\n",
       "      <td>43.094</td>\n",
       "      <td>43.094</td>\n",
       "      <td>42.639</td>\n",
       "      <td>43.046</td>\n",
       "      <td>3549306</td>\n",
       "      <td>0.0</td>\n",
       "      <td>0.0</td>\n",
       "    </tr>\n",
       "    <tr>\n",
       "      <th>0002.HK</th>\n",
       "      <td>37.355</td>\n",
       "      <td>37.388</td>\n",
       "      <td>36.592</td>\n",
       "      <td>36.824</td>\n",
       "      <td>2250739</td>\n",
       "      <td>0.0</td>\n",
       "      <td>0.0</td>\n",
       "    </tr>\n",
       "    <tr>\n",
       "      <th>0003.HK</th>\n",
       "      <td>5.796</td>\n",
       "      <td>5.859</td>\n",
       "      <td>5.764</td>\n",
       "      <td>5.840</td>\n",
       "      <td>14426271</td>\n",
       "      <td>0.0</td>\n",
       "      <td>0.0</td>\n",
       "    </tr>\n",
       "    <tr>\n",
       "      <th>0005.HK</th>\n",
       "      <td>46.139</td>\n",
       "      <td>46.232</td>\n",
       "      <td>45.705</td>\n",
       "      <td>45.984</td>\n",
       "      <td>10545908</td>\n",
       "      <td>0.0</td>\n",
       "      <td>0.0</td>\n",
       "    </tr>\n",
       "    <tr>\n",
       "      <th>0006.HK</th>\n",
       "      <td>25.578</td>\n",
       "      <td>25.744</td>\n",
       "      <td>25.384</td>\n",
       "      <td>25.440</td>\n",
       "      <td>3398904</td>\n",
       "      <td>0.0</td>\n",
       "      <td>0.0</td>\n",
       "    </tr>\n",
       "  </tbody>\n",
       "</table>\n",
       "</div>"
      ],
      "text/plain": [
       "                      open    high     low   close    volume  dividends  \\\n",
       "Date       code                                                           \n",
       "2010-06-17 0001.HK  43.094  43.094  42.639  43.046   3549306        0.0   \n",
       "           0002.HK  37.355  37.388  36.592  36.824   2250739        0.0   \n",
       "           0003.HK   5.796   5.859   5.764   5.840  14426271        0.0   \n",
       "           0005.HK  46.139  46.232  45.705  45.984  10545908        0.0   \n",
       "           0006.HK  25.578  25.744  25.384  25.440   3398904        0.0   \n",
       "\n",
       "                    stock splits  \n",
       "Date       code                   \n",
       "2010-06-17 0001.HK           0.0  \n",
       "           0002.HK           0.0  \n",
       "           0003.HK           0.0  \n",
       "           0005.HK           0.0  \n",
       "           0006.HK           0.0  "
      ]
     },
     "execution_count": 24,
     "metadata": {},
     "output_type": "execute_result"
    }
   ],
   "source": [
    "# because it take some time to prepare the data, let's just use pre-prepared one.\n",
    "# multi index. first index is date, second is code\n",
    "data = pd.read_csv(r'../hsi_component.csv')\n",
    "data['Date'] = pd.to_datetime(data['Date'])\n",
    "data.set_index(['Date', 'code'], inplace=True)\n",
    "data.head()"
   ]
  },
  {
   "cell_type": "code",
   "execution_count": 25,
   "metadata": {},
   "outputs": [],
   "source": [
    "# to use sector analysis. Define sector of each code\n",
    "sector = {'0001.HK': 'Commerce & Industry', '0002.HK': 'Utilities', '0003.HK': 'Utilities', '0005.HK': 'Finance',\n",
    "         '0006.HK': 'Utilities', '0011.HK': 'Finance','0012.HK': 'Properties', '0016.HK': 'Properties', \n",
    "         '0017.HK': 'Properties','0019.HK': 'Commerce & Industry', '0066.HK': 'Commerce & Industry', \n",
    "         '0083.HK': 'Properties','0101.HK': 'Properties', '0151.HK': 'Commerce & Industry', \n",
    "         '0175.HK': 'Commerce & Industry','0267.HK': 'Commerce & Industry', '0386.HK': 'Commerce & Industry', \n",
    "         '0388.HK': 'Finance','0669.HK': 'Commerce & Industry', '0688.HK': 'Properties', \n",
    "         '0700.HK': 'Commerce & Industry','0762.HK': 'Commerce & Industry', '0823.HK': 'Properties', \n",
    "         '0857.HK': 'Commerce & Industry','0883.HK': 'Commerce & Industry', '0939.HK': 'Finance', \n",
    "         '0941.HK': 'Commerce & Industry','1038.HK': 'Utilities', '1044.HK': 'Commerce & Industry', \n",
    "         '1088.HK': 'Commerce & Industry','1093.HK': 'Commerce & Industry', '1109.HK': 'Properties', \n",
    "         '1177.HK': 'Commerce & Industry', '1398.HK': 'Finance', '1928.HK': 'Commerce & Industry', \n",
    "         '2007.HK': 'Properties','2018.HK': 'Commerce & Industry', '2313.HK': 'Commerce & Industry', \n",
    "         '2318.HK': 'Finance','2319.HK': 'Commerce & Industry', '2382.HK': 'Commerce & Industry', \n",
    "         '2388.HK': 'Finance','2628.HK': 'Finance', '3328.HK': 'Finance', '3988.HK': 'Finance', \n",
    "         '1299.HK': 'Finance','0027.HK': 'Commerce & Industry', '0288.HK': 'Commerce & Industry',\n",
    "         '1113.HK': 'Properties', '1997.HK': 'Properties'}"
   ]
  },
  {
   "cell_type": "code",
   "execution_count": 26,
   "metadata": {},
   "outputs": [
    {
     "data": {
      "text/plain": [
       "Date\n",
       "1986-12-31    2568.3\n",
       "1987-01-02    2540.1\n",
       "1987-01-05    2552.4\n",
       "1987-01-06    2583.9\n",
       "1987-01-07    2607.1\n",
       "Name: close, dtype: float64"
      ]
     },
     "execution_count": 26,
     "metadata": {},
     "output_type": "execute_result"
    }
   ],
   "source": [
    "# set a benchmark\n",
    "benchmark = pd.read_csv(r'../^HSI_1986-12-31 00:00:00_2020-07-07 00:00:00.csv')\n",
    "benchmark['Date'] = pd.to_datetime(benchmark['Date'])\n",
    "benchmark.set_index('Date', inplace=True)\n",
    "benchmark = benchmark['close']\n",
    "benchmark.head()"
   ]
  },
  {
   "cell_type": "code",
   "execution_count": 27,
   "metadata": {},
   "outputs": [],
   "source": [
    "multi_study = MultiAssetResearch(data)\n",
    "multi_study.set_asset_group(sector)\n",
    "multi_study.set_benchmark(benchmark)"
   ]
  },
  {
   "cell_type": "code",
   "execution_count": 28,
   "metadata": {},
   "outputs": [
    {
     "name": "stdout",
     "output_type": "stream",
     "text": [
      "def alpha_1(df: pd.DataFrame):\n",
      "    \"\"\"\n",
      "    Alpha#1: (rank(Ts_ArgMax(SignedPower(((returns < 0) ? stddev(returns, 20) : close), 2.), 5)) - 0.5)\n",
      "    :return:\n",
      "    \"\"\"\n",
      "    _close = df['close']\n",
      "    _ret = returns(_close)\n",
      "    _cond = pd.Series(np.where(_ret < np.zeros_like(_ret.shape[0]), stddev(_ret, 20), _close), index=_close.index)\n",
      "    return rank(ts_argmax(signedpower(_cond, 2), 5) - 0.5)\n",
      "\n"
     ]
    }
   ],
   "source": [
    "print_code(alpha_1)"
   ]
  },
  {
   "cell_type": "code",
   "execution_count": 29,
   "metadata": {},
   "outputs": [],
   "source": [
    "multi_study.calculate_factor(alpha_1)"
   ]
  },
  {
   "cell_type": "code",
   "execution_count": 30,
   "metadata": {},
   "outputs": [],
   "source": [
    "external_stylesheets = ['https://codepen.io/chriddyp/pen/bWLwgP.css']\n",
    "dash = JupyterDash(__name__, external_stylesheets=external_stylesheets)\n",
    "app = multi_study.get_evaluation_dash_app(dash)"
   ]
  },
  {
   "cell_type": "code",
   "execution_count": 31,
   "metadata": {},
   "outputs": [
    {
     "name": "stdout",
     "output_type": "stream",
     "text": [
      "Dash app running on http://localhost:8060/\n"
     ]
    }
   ],
   "source": [
    "app.run_server(host='localhost',mode='external', port=8060)"
   ]
  },
  {
   "cell_type": "markdown",
   "metadata": {},
   "source": [
    "*** \n",
    "## Other last week work\n",
    "\n",
    "### portfolio manager\n",
    "\n",
    "Visualize the comparsion between strategies\n",
    "\n",
    "![unsplash](img/pm1.png)\n",
    "\n",
    "![unsplash](img/pm2.png)"
   ]
  },
  {
   "cell_type": "markdown",
   "metadata": {},
   "source": [
    "*** \n",
    "## Next step\n",
    "\n",
    "### Execution\n",
    "\n",
    "* real-time moniter dash app\n",
    "\n",
    "### Report Writing\n"
   ]
  }
 ],
 "metadata": {
  "kernelspec": {
   "display_name": "Python 3",
   "language": "python",
   "name": "python3"
  },
  "language_info": {
   "codemirror_mode": {
    "name": "ipython",
    "version": 3
   },
   "file_extension": ".py",
   "mimetype": "text/x-python",
   "name": "python",
   "nbconvert_exporter": "python",
   "pygments_lexer": "ipython3",
   "version": "3.7.7"
  }
 },
 "nbformat": 4,
 "nbformat_minor": 1
}

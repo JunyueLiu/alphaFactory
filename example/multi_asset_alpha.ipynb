{
 "cells": [
  {
   "cell_type": "code",
   "execution_count": 1,
   "metadata": {
    "pycharm": {
     "is_executing": false
    }
   },
   "outputs": [],
   "source": [
    "import pandas as pd\n",
    "import numpy as np\n",
    "import inspect\n",
    "from jupyter_dash import JupyterDash\n",
    "\n",
    "\n",
    "from alpha_research.MultiAssetResearch import MultiAssetResearch\n",
    "from alpha_research.utils import print_code\n",
    "from alpha_research.factor_zoo.alpha_101 import alpha_1\n",
    "from alpha_research.factor_zoo.utils import *\n"
   ]
  },
  {
   "cell_type": "code",
   "execution_count": 2,
   "metadata": {},
   "outputs": [
    {
     "data": {
      "text/html": [
       "<div>\n",
       "<style scoped>\n",
       "    .dataframe tbody tr th:only-of-type {\n",
       "        vertical-align: middle;\n",
       "    }\n",
       "\n",
       "    .dataframe tbody tr th {\n",
       "        vertical-align: top;\n",
       "    }\n",
       "\n",
       "    .dataframe thead th {\n",
       "        text-align: right;\n",
       "    }\n",
       "</style>\n",
       "<table border=\"1\" class=\"dataframe\">\n",
       "  <thead>\n",
       "    <tr style=\"text-align: right;\">\n",
       "      <th></th>\n",
       "      <th></th>\n",
       "      <th>open</th>\n",
       "      <th>high</th>\n",
       "      <th>low</th>\n",
       "      <th>close</th>\n",
       "      <th>volume</th>\n",
       "      <th>dividends</th>\n",
       "      <th>stock splits</th>\n",
       "    </tr>\n",
       "    <tr>\n",
       "      <th>Date</th>\n",
       "      <th>code</th>\n",
       "      <th></th>\n",
       "      <th></th>\n",
       "      <th></th>\n",
       "      <th></th>\n",
       "      <th></th>\n",
       "      <th></th>\n",
       "      <th></th>\n",
       "    </tr>\n",
       "  </thead>\n",
       "  <tbody>\n",
       "    <tr>\n",
       "      <th rowspan=\"5\" valign=\"top\">2010-06-17</th>\n",
       "      <th>0001.HK</th>\n",
       "      <td>43.094</td>\n",
       "      <td>43.094</td>\n",
       "      <td>42.639</td>\n",
       "      <td>43.046</td>\n",
       "      <td>3549306</td>\n",
       "      <td>0.0</td>\n",
       "      <td>0.0</td>\n",
       "    </tr>\n",
       "    <tr>\n",
       "      <th>0002.HK</th>\n",
       "      <td>37.355</td>\n",
       "      <td>37.388</td>\n",
       "      <td>36.592</td>\n",
       "      <td>36.824</td>\n",
       "      <td>2250739</td>\n",
       "      <td>0.0</td>\n",
       "      <td>0.0</td>\n",
       "    </tr>\n",
       "    <tr>\n",
       "      <th>0003.HK</th>\n",
       "      <td>5.796</td>\n",
       "      <td>5.859</td>\n",
       "      <td>5.764</td>\n",
       "      <td>5.840</td>\n",
       "      <td>14426271</td>\n",
       "      <td>0.0</td>\n",
       "      <td>0.0</td>\n",
       "    </tr>\n",
       "    <tr>\n",
       "      <th>0005.HK</th>\n",
       "      <td>46.139</td>\n",
       "      <td>46.232</td>\n",
       "      <td>45.705</td>\n",
       "      <td>45.984</td>\n",
       "      <td>10545908</td>\n",
       "      <td>0.0</td>\n",
       "      <td>0.0</td>\n",
       "    </tr>\n",
       "    <tr>\n",
       "      <th>0006.HK</th>\n",
       "      <td>25.578</td>\n",
       "      <td>25.744</td>\n",
       "      <td>25.384</td>\n",
       "      <td>25.440</td>\n",
       "      <td>3398904</td>\n",
       "      <td>0.0</td>\n",
       "      <td>0.0</td>\n",
       "    </tr>\n",
       "  </tbody>\n",
       "</table>\n",
       "</div>"
      ],
      "text/plain": [
       "                      open    high     low   close    volume  dividends  \\\n",
       "Date       code                                                           \n",
       "2010-06-17 0001.HK  43.094  43.094  42.639  43.046   3549306        0.0   \n",
       "           0002.HK  37.355  37.388  36.592  36.824   2250739        0.0   \n",
       "           0003.HK   5.796   5.859   5.764   5.840  14426271        0.0   \n",
       "           0005.HK  46.139  46.232  45.705  45.984  10545908        0.0   \n",
       "           0006.HK  25.578  25.744  25.384  25.440   3398904        0.0   \n",
       "\n",
       "                    stock splits  \n",
       "Date       code                   \n",
       "2010-06-17 0001.HK           0.0  \n",
       "           0002.HK           0.0  \n",
       "           0003.HK           0.0  \n",
       "           0005.HK           0.0  \n",
       "           0006.HK           0.0  "
      ]
     },
     "execution_count": 2,
     "metadata": {},
     "output_type": "execute_result"
    }
   ],
   "source": [
    "data = pd.read_csv(r'../hsi_component.csv')\n",
    "data['Date'] = pd.to_datetime(data['Date'])\n",
    "data.set_index(['Date', 'code'], inplace=True)\n",
    "data.head()"
   ]
  },
  {
   "cell_type": "code",
   "execution_count": 3,
   "metadata": {},
   "outputs": [
    {
     "data": {
      "text/plain": [
       "Date\n",
       "1986-12-31    2568.3\n",
       "1987-01-02    2540.1\n",
       "1987-01-05    2552.4\n",
       "1987-01-06    2583.9\n",
       "1987-01-07    2607.1\n",
       "Name: close, dtype: float64"
      ]
     },
     "execution_count": 3,
     "metadata": {},
     "output_type": "execute_result"
    }
   ],
   "source": [
    "benchmark = pd.read_csv(r'../^HSI_1986-12-31 00:00:00_2020-07-07 00:00:00.csv')\n",
    "benchmark['Date'] = pd.to_datetime(benchmark['Date'])\n",
    "benchmark.set_index('Date', inplace=True)\n",
    "benchmark = benchmark['close']\n",
    "benchmark.head()"
   ]
  },
  {
   "cell_type": "code",
   "execution_count": 4,
   "metadata": {},
   "outputs": [],
   "source": [
    "group = {'0001.HK': 'Commerce & Industry', '0002.HK': 'Utilities', '0003.HK': 'Utilities', '0005.HK': 'Finance',\n",
    "         '0006.HK': 'Utilities', '0011.HK': 'Finance','0012.HK': 'Properties', '0016.HK': 'Properties', \n",
    "         '0017.HK': 'Properties','0019.HK': 'Commerce & Industry', '0066.HK': 'Commerce & Industry', \n",
    "         '0083.HK': 'Properties','0101.HK': 'Properties', '0151.HK': 'Commerce & Industry', \n",
    "         '0175.HK': 'Commerce & Industry','0267.HK': 'Commerce & Industry', '0386.HK': 'Commerce & Industry', \n",
    "         '0388.HK': 'Finance','0669.HK': 'Commerce & Industry', '0688.HK': 'Properties', \n",
    "         '0700.HK': 'Commerce & Industry','0762.HK': 'Commerce & Industry', '0823.HK': 'Properties', \n",
    "         '0857.HK': 'Commerce & Industry','0883.HK': 'Commerce & Industry', '0939.HK': 'Finance', \n",
    "         '0941.HK': 'Commerce & Industry','1038.HK': 'Utilities', '1044.HK': 'Commerce & Industry', \n",
    "         '1088.HK': 'Commerce & Industry','1093.HK': 'Commerce & Industry', '1109.HK': 'Properties', \n",
    "         '1177.HK': 'Commerce & Industry', '1398.HK': 'Finance', '1928.HK': 'Commerce & Industry', \n",
    "         '2007.HK': 'Properties','2018.HK': 'Commerce & Industry', '2313.HK': 'Commerce & Industry', \n",
    "         '2318.HK': 'Finance','2319.HK': 'Commerce & Industry', '2382.HK': 'Commerce & Industry', \n",
    "         '2388.HK': 'Finance','2628.HK': 'Finance', '3328.HK': 'Finance', '3988.HK': 'Finance', \n",
    "         '1299.HK': 'Finance','0027.HK': 'Commerce & Industry', '0288.HK': 'Commerce & Industry',\n",
    "         '1113.HK': 'Properties', '1997.HK': 'Properties'}"
   ]
  },
  {
   "cell_type": "code",
   "execution_count": 5,
   "metadata": {},
   "outputs": [],
   "source": [
    "multi_study = MultiAssetResearch(data)\n",
    "multi_study.set_asset_group(group)\n",
    "multi_study.set_benchmark(benchmark)"
   ]
  },
  {
   "cell_type": "code",
   "execution_count": 6,
   "metadata": {},
   "outputs": [
    {
     "name": "stdout",
     "output_type": "stream",
     "text": [
      "def alpha_1(df: pd.DataFrame):\n",
      "    \"\"\"\n",
      "    Alpha#1: (rank(Ts_ArgMax(SignedPower(((returns < 0) ? stddev(returns, 20) : close), 2.), 5)) - 0.5)\n",
      "    :return:\n",
      "    \"\"\"\n",
      "    _close = df['close']\n",
      "    _ret = returns(_close)\n",
      "    _cond = pd.Series(np.where(_ret < np.zeros_like(_ret.shape[0]), stddev(_ret, 20), _close), index=_close.index)\n",
      "    return rank(ts_argmax(signedpower(_cond, 2), 5) - 0.5)\n",
      "\n"
     ]
    }
   ],
   "source": [
    "print_code(alpha_1)"
   ]
  },
  {
   "cell_type": "code",
   "execution_count": 7,
   "metadata": {
    "scrolled": true
   },
   "outputs": [],
   "source": [
    "multi_study.calculate_factor(alpha_1)"
   ]
  },
  {
   "cell_type": "code",
   "execution_count": 8,
   "metadata": {},
   "outputs": [],
   "source": [
    "external_stylesheets = ['https://codepen.io/chriddyp/pen/bWLwgP.css']\n",
    "dash = JupyterDash(__name__, external_stylesheets=external_stylesheets)\n",
    "app = multi_study.get_evaluation_dash_app(dash)"
   ]
  },
  {
   "cell_type": "code",
   "execution_count": 10,
   "metadata": {},
   "outputs": [
    {
     "name": "stdout",
     "output_type": "stream",
     "text": [
      "Dash app running on http://localhost:8060/\n"
     ]
    },
    {
     "data": {
      "text/html": [
       "<div>\n",
       "<style scoped>\n",
       "    .dataframe tbody tr th:only-of-type {\n",
       "        vertical-align: middle;\n",
       "    }\n",
       "\n",
       "    .dataframe tbody tr th {\n",
       "        vertical-align: top;\n",
       "    }\n",
       "\n",
       "    .dataframe thead th {\n",
       "        text-align: right;\n",
       "    }\n",
       "</style>\n",
       "<table border=\"1\" class=\"dataframe\">\n",
       "  <thead>\n",
       "    <tr style=\"text-align: right;\">\n",
       "      <th></th>\n",
       "    </tr>\n",
       "  </thead>\n",
       "  <tbody>\n",
       "    <tr>\n",
       "      <th>IC Mean</th>\n",
       "    </tr>\n",
       "    <tr>\n",
       "      <th>IC Std.</th>\n",
       "    </tr>\n",
       "    <tr>\n",
       "      <th>Risk-Adjusted IC</th>\n",
       "    </tr>\n",
       "    <tr>\n",
       "      <th>t-stat(IC)</th>\n",
       "    </tr>\n",
       "    <tr>\n",
       "      <th>p-value(IC)</th>\n",
       "    </tr>\n",
       "    <tr>\n",
       "      <th>IC Skew</th>\n",
       "    </tr>\n",
       "    <tr>\n",
       "      <th>IC Kurtosis</th>\n",
       "    </tr>\n",
       "  </tbody>\n",
       "</table>\n",
       "</div>"
      ],
      "text/plain": [
       "Empty DataFrame\n",
       "Columns: []\n",
       "Index: [IC Mean, IC Std., Risk-Adjusted IC, t-stat(IC), p-value(IC), IC Skew, IC Kurtosis]"
      ]
     },
     "metadata": {},
     "output_type": "display_data"
    },
    {
     "name": "stderr",
     "output_type": "stream",
     "text": [
      "/Users/liujunyue/anaconda3/envs/alphaFactory/lib/python3.7/site-packages/numpy/lib/function_base.py:2534: RuntimeWarning:\n",
      "\n",
      "invalid value encountered in true_divide\n",
      "\n",
      "/Users/liujunyue/anaconda3/envs/alphaFactory/lib/python3.7/site-packages/numpy/lib/function_base.py:2535: RuntimeWarning:\n",
      "\n",
      "invalid value encountered in true_divide\n",
      "\n",
      "/Users/liujunyue/anaconda3/envs/alphaFactory/lib/python3.7/site-packages/scipy/stats/_distn_infrastructure.py:903: RuntimeWarning:\n",
      "\n",
      "invalid value encountered in greater\n",
      "\n",
      "/Users/liujunyue/anaconda3/envs/alphaFactory/lib/python3.7/site-packages/scipy/stats/_distn_infrastructure.py:903: RuntimeWarning:\n",
      "\n",
      "invalid value encountered in less\n",
      "\n",
      "/Users/liujunyue/anaconda3/envs/alphaFactory/lib/python3.7/site-packages/scipy/stats/_distn_infrastructure.py:1912: RuntimeWarning:\n",
      "\n",
      "invalid value encountered in less_equal\n",
      "\n"
     ]
    }
   ],
   "source": [
    "app.run_server(host='localhost',mode='external', debug=True, port=8060)"
   ]
  },
  {
   "cell_type": "code",
   "execution_count": null,
   "metadata": {},
   "outputs": [],
   "source": []
  }
 ],
 "metadata": {
  "kernelspec": {
   "display_name": "Python 3",
   "language": "python",
   "name": "python3"
  },
  "language_info": {
   "codemirror_mode": {
    "name": "ipython",
    "version": 3
   },
   "file_extension": ".py",
   "mimetype": "text/x-python",
   "name": "python",
   "nbconvert_exporter": "python",
   "pygments_lexer": "ipython3",
   "version": "3.7.6"
  }
 },
 "nbformat": 4,
 "nbformat_minor": 4
}
